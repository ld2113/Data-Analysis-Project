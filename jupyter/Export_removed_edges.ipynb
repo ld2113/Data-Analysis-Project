{
 "cells": [
  {
   "cell_type": "code",
   "execution_count": 26,
   "metadata": {
    "collapsed": true
   },
   "outputs": [],
   "source": [
    "import numpy as np\n",
    "import pandas as pd"
   ]
  },
  {
   "cell_type": "code",
   "execution_count": 27,
   "metadata": {},
   "outputs": [],
   "source": [
    "rm_edges = np.load('../arrays/080_embed/network/rm_edges.npy').astype(int)\n",
    "rm_list = rm_edges.tolist()\n",
    "tuple_list = list(map(tuple,rm_list))"
   ]
  },
  {
   "cell_type": "code",
   "execution_count": 28,
   "metadata": {},
   "outputs": [],
   "source": [
    "remove_tup = tuple_list[0:int(len(tuple_list)/2)]\n",
    "remove = rm_edges[0:int(len(rm_edges)/2)]"
   ]
  },
  {
   "cell_type": "code",
   "execution_count": 29,
   "metadata": {},
   "outputs": [],
   "source": [
    "np.save('../arrays/080_embed/network/rm_edges_09_test_tup.npy',remove_tup)\n",
    "np.save('../arrays/080_embed/network/rm_edges_09_test.npy',remove_tup)"
   ]
  },
  {
   "cell_type": "code",
   "execution_count": null,
   "metadata": {
    "collapsed": true
   },
   "outputs": [],
   "source": [
    "tuple_list = list(map(tuple,np.load('arrays/08_testing/network/rm_edges_09_test.npy').astype(int).tolist()))"
   ]
  }
 ],
 "metadata": {
  "kernelspec": {
   "display_name": "Python 3",
   "language": "python",
   "name": "python3"
  },
  "language_info": {
   "codemirror_mode": {
    "name": "ipython",
    "version": 3
   },
   "file_extension": ".py",
   "mimetype": "text/x-python",
   "name": "python",
   "nbconvert_exporter": "python",
   "pygments_lexer": "ipython3",
   "version": "3.6.1"
  }
 },
 "nbformat": 4,
 "nbformat_minor": 2
}
