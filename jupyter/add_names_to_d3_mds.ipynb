{
 "cells": [
  {
   "cell_type": "code",
   "execution_count": 108,
   "metadata": {},
   "outputs": [],
   "source": [
    "import pandas as pd\n",
    "import numpy as np\n",
    "\n",
    "df = pd.read_table('~/work/protein_names.tsv', engine=\"c\", index_col=3, dtype='str')\n",
    "\n",
    "names = np.load('../arrays/names.npy')\n",
    "names\n",
    "\n",
    "symbols = df.loc[np.array(names)]\n",
    "del symbols['synonyms']\n",
    "\n",
    "coord = np.load('../w/data/coord_list.npy')\n",
    "\n",
    "c_df = pd.DataFrame(coord, columns=['id','x_val','y_val']).set_index('id')\n",
    "\n",
    "result = pd.concat([c_df, symbols], axis=1)\n",
    "\n",
    "result.index = result.index.astype(int)\n",
    "\n",
    "result = result.reset_index()\n",
    "\n",
    "result.to_csv('../w/coord_list_names.csv')\n",
    "\n",
    "shuffle = result.sample(frac=1)\n",
    "\n",
    "shuffle[0:1000].to_csv('../w/data/coord_list_names_sub10.csv')\n",
    "\n",
    "shuffle[0:1100].to_csv('../w/data/coord_list_names_sub11.csv')\n",
    "\n",
    "shuffle[0:1200].to_csv('../w/data/coord_list_names_sub12.csv')\n",
    "\n",
    "shuffle[0:1300].to_csv('../w/data/coord_list_names_sub13.csv')"
   ]
  }
 ],
 "metadata": {
  "kernelspec": {
   "display_name": "Python 3",
   "language": "python",
   "name": "python3"
  },
  "language_info": {
   "codemirror_mode": {
    "name": "ipython",
    "version": 3
   },
   "file_extension": ".py",
   "mimetype": "text/x-python",
   "name": "python",
   "nbconvert_exporter": "python",
   "pygments_lexer": "ipython3",
   "version": "3.6.1"
  }
 },
 "nbformat": 4,
 "nbformat_minor": 2
}
