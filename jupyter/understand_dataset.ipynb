{
 "cells": [
  {
   "cell_type": "code",
   "execution_count": 1,
   "metadata": {
    "collapsed": true
   },
   "outputs": [],
   "source": [
    "import numpy as np"
   ]
  },
  {
   "cell_type": "code",
   "execution_count": 2,
   "metadata": {
    "collapsed": true
   },
   "outputs": [],
   "source": [
    "one_d = np.load('../arrays/labels.npy')"
   ]
  },
  {
   "cell_type": "code",
   "execution_count": 3,
   "metadata": {},
   "outputs": [
    {
     "data": {
      "text/plain": [
       "219216.0"
      ]
     },
     "execution_count": 3,
     "metadata": {},
     "output_type": "execute_result"
    }
   ],
   "source": [
    "np.sum(one_d)"
   ]
  },
  {
   "cell_type": "code",
   "execution_count": 4,
   "metadata": {},
   "outputs": [
    {
     "data": {
      "text/plain": [
       "129741886"
      ]
     },
     "execution_count": 4,
     "metadata": {},
     "output_type": "execute_result"
    }
   ],
   "source": [
    "len(one_d)"
   ]
  },
  {
   "cell_type": "code",
   "execution_count": 5,
   "metadata": {},
   "outputs": [
    {
     "data": {
      "text/plain": [
       "0.0016896316737680227"
      ]
     },
     "execution_count": 5,
     "metadata": {},
     "output_type": "execute_result"
    }
   ],
   "source": [
    "np.sum(one_d)/len(one_d)"
   ]
  },
  {
   "cell_type": "code",
   "execution_count": 6,
   "metadata": {},
   "outputs": [
    {
     "data": {
      "text/plain": [
       "0.00070447612103423872"
      ]
     },
     "execution_count": 6,
     "metadata": {},
     "output_type": "execute_result"
    }
   ],
   "source": [
    "frac = one_d[int(len(one_d)*0):int(len(one_d)*0.01)]\n",
    "np.sum(frac)/len(frac)"
   ]
  },
  {
   "cell_type": "code",
   "execution_count": null,
   "metadata": {
    "collapsed": true
   },
   "outputs": [],
   "source": []
  },
  {
   "cell_type": "code",
   "execution_count": 7,
   "metadata": {
    "collapsed": true
   },
   "outputs": [],
   "source": [
    "from __future__ import print_function\n",
    "from __future__ import division\n",
    "from __future__ import absolute_import\n",
    "\n",
    "import numpy as np\n",
    "import sys\n",
    "\n",
    "import sklearn.metrics as met\n",
    "\n",
    "import keras\n",
    "\n",
    "from keras import regularizers\n",
    "from keras.models import Sequential\n",
    "from keras.layers import Dense, Dropout\n",
    "\n",
    "\n",
    "class Cust_metrics(keras.callbacks.Callback):\n",
    "\tdef on_train_begin(self, logs={}):\n",
    "\t\tself.aucs = []\n",
    "\t\t#self.losses = []\n",
    "\n",
    "\tdef on_train_end(self, logs={}):\n",
    "\t\treturn\n",
    "\n",
    "\tdef on_epoch_begin(self, epoch, logs={}):\n",
    "\t\treturn\n",
    "\n",
    "\tdef on_epoch_end(self, epoch, logs={}):\n",
    "\n",
    "\t\tepoch_pred = self.model.predict(coord_test)\n",
    "\t\tepoch_bin_pred = np.array(epoch_pred > 0.5).astype(int)\n",
    "\t\t#self.losses.append(logs.get('loss'))\n",
    "\n",
    "\t\t#self.aucs.append(roc_auc_score(labels_test, y_pred))\n",
    "\t\tprint('\\n', 'Custom epoch metrics: ', 'auc: ', met.roc_auc_score(labels_test, epoch_pred), end=' - ')\n",
    "\n",
    "\t\tprint('mcc: ', met.matthews_corrcoef(labels_test,epoch_bin_pred))\n",
    "\n",
    "\t\treturn\n",
    "\n",
    "\tdef on_batch_begin(self, batch, logs={}):\n",
    "\t\treturn\n",
    "\n",
    "\tdef on_batch_end(self, batch, logs={}):\n",
    "\t\treturn\n",
    "\n",
    "\n",
    "def prepare_data(labels_path, coord_path):\n",
    "\n",
    "\t# Load coordinate and labels data\n",
    "\tlabels = np.load(labels_path)\n",
    "\tcoord = np.load(coord_path)\n",
    "\t#names = np.load('arrays/names.npy')\n",
    "\n",
    "\t# Preprocess coordinate data (zero centered and between -1 and 1)\n",
    "\t#coord -= 0.5\n",
    "\t#coord *= 2\n",
    "\n",
    "\treturn labels, coord\n",
    "\n",
    "\n",
    "def subset_data(labels, coord, keep=1.0, train_split=1.0):\n",
    "\n",
    "\t#Subsetting data\n",
    "\tlabels = labels[0:int(keep*len(labels))]\n",
    "\tcoord = coord[0:int(keep*len(coord))]\n",
    "\n",
    "\t# Splitting data\n",
    "\tlabels_train = labels[0:int(len(labels)*train_split)]\n",
    "\tcoord_train = coord[0:int(len(coord)*train_split)]\n",
    "\tlabels_test = labels[int(len(labels)*train_split):]\n",
    "\tcoord_test = coord[int(len(coord)*train_split):]\n",
    "\n",
    "\treturn labels_train, labels_test, coord_train, coord_test\n",
    "\n",
    "\n",
    "def build_model(indim, reg, drop, nlayers, nunits):\n",
    "\n",
    "\t# Setting up model\n",
    "\tmodel = Sequential()\n",
    "\n",
    "\tmodel.add(Dense(nunits, input_dim=indim, activation='relu', kernel_regularizer=regularizers.l2(reg), kernel_initializer='he_normal'))\n",
    "\tmodel.add(Dropout(drop))\n",
    "\n",
    "\tfor i in range(nlayers):\n",
    "\t\tmodel.add(Dense(nunits, activation='relu', kernel_regularizer=regularizers.l2(reg), kernel_initializer='he_normal'))\n",
    "\t\tmodel.add(Dropout(drop))\n",
    "\n",
    "\tmodel.add(Dense(1, activation='sigmoid'))\n",
    "\n",
    "\treturn model\n",
    "\n",
    "\n",
    "def compile_mod(model):\n",
    "\n",
    "\t# Compiling the model\n",
    "\tadam = keras.optimizers.Adam(lr=0.001, beta_1=0.9, beta_2=0.999, epsilon=1e-08, decay=0.0)\n",
    "\t#sdg = keras.optimizers.SGD(lr=0.01, momentum=0.0, decay=0.0, nesterov=True)\n",
    "\n",
    "\tmodel.compile(loss='binary_crossentropy', optimizer=adam, metrics=['accuracy'])\n",
    "\n",
    "\treturn model\n",
    "\n",
    "def set_callbacks():\n",
    "\n",
    "\tcb = []\n",
    "\n",
    "\tcb.append(keras.callbacks.ReduceLROnPlateau(monitor='loss', factor=0.5, patience=3, verbose=1, mode='auto', epsilon=0.0001, cooldown=0, min_lr=0))\n",
    "\t#cb.append(keras.callbacks.LearningRateScheduler(schedule))\n",
    "\tcb.append(keras.callbacks.EarlyStopping(monitor='loss', min_delta=0.00001, patience=10, verbose=1, mode='auto'))\n",
    "\tcb.append(Cust_metrics())\n",
    "\n",
    "\treturn cb"
   ]
  },
  {
   "cell_type": "code",
   "execution_count": 8,
   "metadata": {},
   "outputs": [
    {
     "name": "stdout",
     "output_type": "stream",
     "text": [
      "----Loading and processing data----\n"
     ]
    }
   ],
   "source": [
    "print(\"----Loading and processing data----\")\n",
    "labels, coord = prepare_data('../arrays/labels.npy', '../arrays/coord_all_interactions.npy')\n",
    "labels_train, labels_test, coord_train, coord_test = subset_data(labels, coord, keep=1, train_split=0.75)"
   ]
  },
  {
   "cell_type": "code",
   "execution_count": 9,
   "metadata": {},
   "outputs": [
    {
     "name": "stdout",
     "output_type": "stream",
     "text": [
      "SM ready\n",
      "Time for resampling: 727.2790672779083\n"
     ]
    }
   ],
   "source": [
    "from imblearn.over_sampling import SMOTE\n",
    "from time import time\n",
    "sm = SMOTE(random_state=42, n_jobs=10)\n",
    "print(\"SM ready\")\n",
    "t1 = time()\n",
    "coord_075_resampled, labels_075_resampled = sm.fit_sample(coord_train, labels_train)\n",
    "t2 = time()\n",
    "print(\"Time for resampling:\", t2-t1)"
   ]
  },
  {
   "cell_type": "code",
   "execution_count": 10,
   "metadata": {
    "collapsed": true
   },
   "outputs": [],
   "source": [
    "np.save('../arrays/4D_075_coord_resampled.npy',coord_075_resampled)\n",
    "np.save('../arrays/labels_075_resampled.npy',labels_075_resampled)"
   ]
  },
  {
   "cell_type": "code",
   "execution_count": 11,
   "metadata": {
    "collapsed": true
   },
   "outputs": [],
   "source": [
    "np.save('../arrays/4D_025_coord.npy',coord_test)\n",
    "np.save('../arrays/labels_025.npy',labels_test)"
   ]
  },
  {
   "cell_type": "code",
   "execution_count": 28,
   "metadata": {},
   "outputs": [
    {
     "data": {
      "text/plain": [
       "(194296950, 8)"
      ]
     },
     "execution_count": 28,
     "metadata": {},
     "output_type": "execute_result"
    }
   ],
   "source": [
    "coord_075_resampled.shape"
   ]
  },
  {
   "cell_type": "code",
   "execution_count": null,
   "metadata": {},
   "outputs": [],
   "source": []
  },
  {
   "cell_type": "code",
   "execution_count": 2,
   "metadata": {},
   "outputs": [
    {
     "name": "stdout",
     "output_type": "stream",
     "text": [
      "----Loading Data----\n",
      "----Processing Data----\n",
      "----Setting up the model----\n",
      "----Compiling the model----\n",
      "----Model training----\n",
      "Epoch 1/1\n",
      "194296064/194296950 [============================>.] - ETA: 0s - loss: 0.4447 - acc: 0.7868\n",
      " Custom epoch metrics:  auc: 0.78026529663 - mcc: 0.0417260783928  - acc: 0.752192753662 - Prediciton  MAX: [ 1.] Prediction MIN: [  3.39155864e-32] - Fraction of positive predictions: 0.248422529507\n",
      "194296950/194296950 [==============================] - 3617s - loss: 0.4447 - acc: 0.7868  \n",
      "[array([[ -5.67328691e-01,  -2.16078186e+00,  -1.93456970e-02, ...,\n",
      "          2.00844854e-02,   2.76651096e+00,   4.40695047e-01],\n",
      "       [  2.61440945e+00,   2.02521876e-01,   3.01957899e-03, ...,\n",
      "          9.59731415e-02,   1.34519506e+00,  -4.20635134e-01],\n",
      "       [  1.13600039e+00,  -2.14128971e-01,  -9.70843062e-02, ...,\n",
      "         -5.05073890e-02,   5.83019733e-01,  -2.16224477e-01],\n",
      "       ..., \n",
      "       [ -1.22470826e-01,  -6.47851050e-01,   4.73687798e-01, ...,\n",
      "          3.72627401e+00,  -2.15467542e-01,   1.03907251e+00],\n",
      "       [  5.79225063e-01,  -4.30526882e-02,  -2.62286472e+00, ...,\n",
      "         -1.29741096e+00,   1.44589588e-01,  -7.95597911e-01],\n",
      "       [ -5.40777110e-02,  -1.97694153e-01,  -2.72598815e+00, ...,\n",
      "         -2.10391259e+00,   5.14955759e-01,  -4.30625057e+00]], dtype=float32), array([-0.58434379,  0.16166393, -1.45667982,  2.3596921 , -1.3271755 ,\n",
      "        0.31447807,  0.56863135, -2.76621461, -0.26244989,  0.79472923,\n",
      "       -1.26809275, -1.04907572,  0.66766423, -1.84529042,  1.30048263,\n",
      "       -1.98182082,  0.636145  , -0.57770455, -2.03002071, -0.08086881,\n",
      "       -0.43467835, -1.72352755, -0.68817848, -1.11666262, -1.39657485,\n",
      "       -0.56062102, -0.66112316, -0.44740093, -1.7768172 , -2.13756585,\n",
      "        2.04658842,  4.30041218, -0.98332071,  0.90561032,  1.1840539 ,\n",
      "       -0.26540545, -0.44242296, -1.22743249, -3.40558696, -0.62495703,\n",
      "       -0.20618761, -1.15074623, -0.73623574, -0.49808222, -0.64129275,\n",
      "       -0.26287791, -1.12053788, -1.76195228, -1.77472138, -0.62928653,\n",
      "        1.04498625, -1.36325836, -1.22079659, -2.43922186, -0.68412948,\n",
      "       -2.8575623 , -1.46963823, -1.66936135, -0.40766814,  0.21148822,\n",
      "       -0.06077569, -2.99997568,  0.1974342 , -2.46886683, -0.50880373,\n",
      "       -1.52798009,  0.65991199,  0.09322447, -0.21441707, -0.31779873,\n",
      "        0.26828915, -1.9758383 , -0.66891402, -0.3275176 , -1.73134124,\n",
      "       -2.18817067, -0.9419387 , -2.46684694,  0.27446175, -0.25223675,\n",
      "        0.4713808 , -2.56805396, -0.23004147, -1.78439283,  1.4837836 ,\n",
      "       -2.05818081, -1.41706288,  1.86666441, -1.53943217, -2.28677917,\n",
      "       -0.59813517, -0.40388373, -2.34821177, -3.08925724, -1.55144429,\n",
      "       -1.02719498, -2.31470418,  0.07269513,  0.20055057, -3.27403188,\n",
      "        0.0209936 , -1.03272808, -1.1781683 , -3.2341795 , -2.65304756,\n",
      "        1.16942978, -1.31486738,  0.43949127, -0.53452516, -2.38040853,\n",
      "        0.38269579, -0.13782924, -0.83534265,  0.16916296, -1.95440662,\n",
      "        2.75511789, -0.19033886, -2.14723206,  0.46162555, -1.40654051,\n",
      "        0.08291951, -1.96255386,  0.73759973, -0.90840054, -2.26108932,\n",
      "       -1.51800644, -2.81724095, -0.9137125 ], dtype=float32), array([[-1.88899374, -1.53179312, -0.41039383, ...,  0.18398862,\n",
      "         0.80367613,  0.06756879],\n",
      "       [-2.33743858, -0.55999994,  0.10736203, ...,  0.87804747,\n",
      "         0.55286849, -0.30082095],\n",
      "       [ 0.0374199 ,  0.91312432,  0.1675684 , ...,  0.13210171,\n",
      "        -3.31236029, -0.10048886],\n",
      "       ..., \n",
      "       [-1.263183  , -0.47107193,  0.03903291, ...,  0.2285355 ,\n",
      "        -3.15272188, -0.14087537],\n",
      "       [-2.53606105,  2.46145773,  0.12066291, ...,  1.02245796,\n",
      "        -0.02018427, -0.30679783],\n",
      "       [ 3.92219353,  0.75960797,  0.12434984, ...,  0.35489023,\n",
      "        -1.94830561, -0.02263152]], dtype=float32), array([ -3.05562901e+00,  -1.53681600e+00,  -5.37580431e-01,\n",
      "        -9.65098068e-02,  -3.59990811e+00,  -7.14258313e-01,\n",
      "        -3.84408760e+00,  -1.14487660e+00,  -5.50180769e+00,\n",
      "         7.80467808e-01,  -9.66231406e-01,   8.26338828e-01,\n",
      "         8.01933408e-01,  -7.64070988e-01,   4.74431008e-01,\n",
      "        -9.68244523e-02,   6.31746575e-02,  -1.18871599e-01,\n",
      "        -4.32856083e+00,   2.28167266e-01,  -6.00121832e+00,\n",
      "        -4.87128422e-02,  -8.43984663e-01,   4.02384950e-03,\n",
      "        -2.55369663e+00,  -5.85202694e-01,  -2.40752012e-01,\n",
      "        -2.64343548e+00,  -1.83589864e+00,   3.85235518e-01,\n",
      "        -6.09844387e-01,  -2.03183874e-01,  -8.05978924e-02,\n",
      "        -4.41883594e-01,   6.88631475e-01,  -8.15063357e-01,\n",
      "         1.99798775e+00,  -1.11725785e-01,  -1.00036144e+00,\n",
      "         1.25543058e+00,  -1.04836550e+01,   1.54350495e+00,\n",
      "        -7.43201375e-02,  -5.33202104e-02,  -2.69529939e-01,\n",
      "         2.98520923e-01,  -5.07961035e-01,  -1.95692253e+00,\n",
      "        -5.93706417e+00,  -4.48324174e-01,  -2.80509162e+00,\n",
      "        -2.00466537e+00,  -9.30562168e-02,  -9.31628421e-02,\n",
      "         5.52931011e-01,   1.81374574e+00,  -1.82137930e+00,\n",
      "        -4.82018203e-01,  -2.28153020e-01,  -6.76175177e-01,\n",
      "        -8.56157094e-02,  -5.96416533e-01,  -6.11622989e-01,\n",
      "         3.75801265e-01,   1.57549405e+00,  -2.45768324e-01,\n",
      "        -9.23049212e-01,   1.17766607e+00,  -1.08008850e+00,\n",
      "        -4.31962550e-01,  -2.59560674e-01,  -4.04430866e-01,\n",
      "        -2.42191100e+00,   1.36955738e-01,  -1.49329707e-01,\n",
      "        -4.90947992e-01,  -5.68201467e-02,  -4.10417366e+00,\n",
      "        -6.33688867e-02,  -1.29553318e-01,   7.50974774e-01,\n",
      "         3.21510136e-01,   1.07083750e+00,   7.43767679e-01,\n",
      "        -2.49846786e-01,  -1.49373487e-01,   6.83802068e-01,\n",
      "        -1.42848086e+00,  -2.45655203e+00,  -3.58550191e-01,\n",
      "        -4.28971624e+00,  -7.87207764e-03,  -2.42498204e-01,\n",
      "        -3.42534423e-01,  -3.57497692e+00,  -5.79492748e-01,\n",
      "        -2.97195482e+00,  -3.57408357e+00,  -2.80098557e+00,\n",
      "        -3.47891212e-01,  -1.46109128e+00,  -5.64617693e-01,\n",
      "        -1.41839638e-01,  -9.05221164e-01,  -8.79627883e-01,\n",
      "        -4.49014381e-02,  -6.89022732e+00,  -1.90333009e-01,\n",
      "        -1.07444727e+00,   5.13442218e-01,  -1.61115751e-02,\n",
      "        -4.43699472e-02,  -1.68610722e-01,  -2.27009392e+00,\n",
      "        -4.77364016e+00,  -2.03046274e+00,   2.30178162e-02,\n",
      "        -2.37940764e+00,  -9.70206916e-01,  -8.64400119e-02,\n",
      "        -2.00023785e-01,   1.21082199e+00,  -1.33421659e+00,\n",
      "        -9.87709045e-01,   5.54362655e-01,  -4.16820812e+00,\n",
      "        -2.24026799e+00,  -1.00083940e-01], dtype=float32), array([[ -2.83891201e-01],\n",
      "       [  2.99482584e-01],\n",
      "       [ -1.00748338e-01],\n",
      "       [  1.78108029e-02],\n",
      "       [ -2.01395169e-01],\n",
      "       [  2.27975413e-01],\n",
      "       [  1.22313786e+00],\n",
      "       [ -3.37865114e-01],\n",
      "       [  1.44345427e+00],\n",
      "       [  1.59736320e-01],\n",
      "       [  6.74312532e-01],\n",
      "       [  1.86339363e-01],\n",
      "       [ -2.80908942e-01],\n",
      "       [ -4.08450872e-01],\n",
      "       [  1.77197486e-01],\n",
      "       [  6.88940659e-03],\n",
      "       [ -2.49681041e-01],\n",
      "       [  1.63244978e-02],\n",
      "       [ -2.34528556e-01],\n",
      "       [  1.90868363e-01],\n",
      "       [ -1.95340812e-01],\n",
      "       [  1.15694338e-02],\n",
      "       [ -3.16643834e-01],\n",
      "       [ -4.45853412e-01],\n",
      "       [ -2.42946148e-01],\n",
      "       [  7.94081271e-01],\n",
      "       [  2.67475039e-01],\n",
      "       [  2.95102119e+00],\n",
      "       [ -2.72504926e-01],\n",
      "       [ -1.53453708e-01],\n",
      "       [  2.90798962e-01],\n",
      "       [ -5.03675163e-01],\n",
      "       [ -9.51131340e-04],\n",
      "       [  4.12039459e-01],\n",
      "       [ -3.98320884e-01],\n",
      "       [ -1.49055094e-01],\n",
      "       [ -3.08234066e-01],\n",
      "       [  7.03083053e-02],\n",
      "       [ -1.09498233e-01],\n",
      "       [  1.23815514e-01],\n",
      "       [ -2.53748924e-01],\n",
      "       [  2.17632949e-01],\n",
      "       [ -1.62543841e-02],\n",
      "       [  2.03343317e-01],\n",
      "       [ -2.26358891e-01],\n",
      "       [ -2.10164517e-01],\n",
      "       [  3.50933611e-01],\n",
      "       [ -1.26319796e-01],\n",
      "       [  2.29002166e+00],\n",
      "       [ -1.51133817e-02],\n",
      "       [  4.37440205e+00],\n",
      "       [ -3.34916443e-01],\n",
      "       [  9.71470848e-02],\n",
      "       [  2.75275886e-01],\n",
      "       [  1.45438179e-01],\n",
      "       [ -7.51539886e-01],\n",
      "       [  4.50670767e+00],\n",
      "       [  2.50377148e-01],\n",
      "       [  8.44826642e-03],\n",
      "       [  1.60335624e+00],\n",
      "       [  7.66102225e-02],\n",
      "       [ -5.93610346e-01],\n",
      "       [  1.76955551e-01],\n",
      "       [  4.11792010e-01],\n",
      "       [  5.88392019e-01],\n",
      "       [ -1.45813406e-01],\n",
      "       [  3.49436700e-01],\n",
      "       [ -5.08762300e-01],\n",
      "       [ -1.39763743e-01],\n",
      "       [  1.58528477e-01],\n",
      "       [  9.03058704e-03],\n",
      "       [ -6.10513752e-03],\n",
      "       [ -7.54597545e-01],\n",
      "       [ -9.49289948e-02],\n",
      "       [ -2.22948268e-02],\n",
      "       [ -2.86713522e-03],\n",
      "       [  2.71593571e-01],\n",
      "       [ -1.79160267e-01],\n",
      "       [  1.27758207e-02],\n",
      "       [  1.15543809e-02],\n",
      "       [  1.52765989e-01],\n",
      "       [ -3.54143351e-01],\n",
      "       [  1.61221147e-01],\n",
      "       [ -2.86791861e-01],\n",
      "       [  1.81883276e-01],\n",
      "       [  2.36869425e-01],\n",
      "       [  1.67245120e-01],\n",
      "       [  3.59628826e-01],\n",
      "       [  4.40399796e-01],\n",
      "       [  1.89395428e-01],\n",
      "       [ -2.23865107e-01],\n",
      "       [  3.02533060e-03],\n",
      "       [  4.21463132e-01],\n",
      "       [  3.22524905e-01],\n",
      "       [ -3.59465122e-01],\n",
      "       [  4.75496888e-01],\n",
      "       [ -4.60986972e-01],\n",
      "       [ -3.69632423e-01],\n",
      "       [ -3.12265158e-01],\n",
      "       [ -1.34953529e-01],\n",
      "       [  5.15938044e-01],\n",
      "       [  1.72023028e-01],\n",
      "       [ -2.66087893e-02],\n",
      "       [  2.63012230e-01],\n",
      "       [ -3.38627815e-01],\n",
      "       [ -1.71632275e-01],\n",
      "       [ -6.68953359e-01],\n",
      "       [ -4.36392538e-02],\n",
      "       [ -2.08872691e-01],\n",
      "       [  4.42359239e-01],\n",
      "       [ -2.39374742e-01],\n",
      "       [  1.94669813e-02],\n",
      "       [ -1.37518540e-01],\n",
      "       [ -3.76913816e-01],\n",
      "       [  2.17407274e+00],\n",
      "       [ -2.93664217e-01],\n",
      "       [ -2.18028307e-01],\n",
      "       [ -2.80078769e-01],\n",
      "       [  5.39464951e-01],\n",
      "       [  1.01327151e-01],\n",
      "       [  2.40045413e-02],\n",
      "       [ -1.34927511e+00],\n",
      "       [  1.93532854e-01],\n",
      "       [ -3.92946720e-01],\n",
      "       [ -1.62022308e-01],\n",
      "       [ -5.84585965e-01],\n",
      "       [ -1.70333818e-01],\n",
      "       [  5.99794323e-03]], dtype=float32), array([-0.51854527], dtype=float32)]\n"
     ]
    }
   ],
   "source": [
    "from __future__ import print_function\n",
    "from __future__ import division\n",
    "from __future__ import absolute_import\n",
    "\n",
    "import numpy as np\n",
    "import sys\n",
    "import pickle\n",
    "\n",
    "import sklearn.metrics as met\n",
    "\n",
    "import keras\n",
    "\n",
    "from keras import regularizers\n",
    "from keras.models import Sequential\n",
    "from keras.layers import Dense, Dropout\n",
    "\n",
    "\n",
    "class Cust_metrics(keras.callbacks.Callback):\n",
    "\tdef on_train_begin(self, logs={}):\n",
    "\t\tself.aucs = []\n",
    "\t\t#self.losses = []\n",
    "\n",
    "\tdef on_train_end(self, logs={}):\n",
    "\t\treturn\n",
    "\n",
    "\tdef on_epoch_begin(self, epoch, logs={}):\n",
    "\t\treturn\n",
    "\n",
    "\tdef on_epoch_end(self, epoch, logs={}):\n",
    "\n",
    "\t\tepoch_pred = self.model.predict(coord_test)\n",
    "\t\tepoch_bin_pred = np.array(epoch_pred > 0.5).astype(int)\n",
    "\t\t#self.losses.append(logs.get('loss'))\n",
    "\n",
    "\t\t#self.aucs.append(roc_auc_score(labels_test, y_pred))\n",
    "\t\tprint('\\n', 'Custom epoch metrics:  auc:', met.roc_auc_score(labels_test, epoch_pred), end=' - ')\n",
    "\n",
    "\t\tprint('mcc:', met.matthews_corrcoef(labels_test,epoch_bin_pred), ' - acc:', met.accuracy_score(labels_test,epoch_bin_pred), end=' - ')\n",
    "\n",
    "\t\tprint(\"Prediciton  MAX:\", max(epoch_pred) , \"Prediction MIN:\", min(epoch_pred), end=' - ')\n",
    "\n",
    "\t\tprint(\"Fraction of positive predictions:\", np.sum(epoch_bin_pred)/len(epoch_bin_pred))\n",
    "\n",
    "\t\treturn\n",
    "\n",
    "\tdef on_batch_begin(self, batch, logs={}):\n",
    "\t\treturn\n",
    "\n",
    "\tdef on_batch_end(self, batch, logs={}):\n",
    "\t\treturn\n",
    "\n",
    "\n",
    "def normalise_coord(array_list):\n",
    "\n",
    "\tfor i in range(len(array_list)):\n",
    "\t\tarray_list[i] -= 0.5\n",
    "\t\tarray_list[i] *= 2\n",
    "\n",
    "\treturn array_list\n",
    "\n",
    "\n",
    "def subset_data(labels, coord, keep=1.0, train_split=1.0):\n",
    "\n",
    "\t#Subsetting data\n",
    "\tlabels = labels[0:int(keep*len(labels))]\n",
    "\tcoord = coord[0:int(keep*len(coord))]\n",
    "\n",
    "\t# Splitting data\n",
    "\tlabels_train = labels[0:int(len(labels)*train_split)]\n",
    "\tcoord_train = coord[0:int(len(coord)*train_split)]\n",
    "\tlabels_test = labels[int(len(labels)*train_split):]\n",
    "\tcoord_test = coord[int(len(coord)*train_split):]\n",
    "\n",
    "\treturn labels_train, labels_test, coord_train, coord_test\n",
    "\n",
    "\n",
    "def build_model(indim, reg, drop, nlayers, nunits, act):\n",
    "\n",
    "\t# Setting up model\n",
    "\tmodel = Sequential()\n",
    "\n",
    "\tmodel.add(Dense(nunits, input_dim=indim, activation=act, kernel_regularizer=regularizers.l2(reg), kernel_initializer='he_normal'))\n",
    "\tmodel.add(Dropout(drop))\n",
    "\n",
    "\tfor i in range(nlayers):\n",
    "\t\tmodel.add(Dense(nunits, activation=act, kernel_regularizer=regularizers.l2(reg), kernel_initializer='he_normal'))\n",
    "\t\tmodel.add(Dropout(drop))\n",
    "\n",
    "\tmodel.add(Dense(1, activation='sigmoid'))\n",
    "\n",
    "\treturn model\n",
    "\n",
    "\n",
    "def compile_mod(model):\n",
    "\n",
    "\t# Compiling the model\n",
    "\tadam = keras.optimizers.Adam(lr=0.001, beta_1=0.9, beta_2=0.999, epsilon=1e-08, decay=0.0)\n",
    "\t#sdg = keras.optimizers.SGD(lr=0.01, momentum=0.0, decay=0.0, nesterov=True)\n",
    "\n",
    "\tmodel.compile(loss='binary_crossentropy', optimizer=adam, metrics=['accuracy'])\n",
    "\n",
    "\treturn model\n",
    "\n",
    "def set_callbacks():\n",
    "\n",
    "\tcb = []\n",
    "\n",
    "\tcb.append(keras.callbacks.ReduceLROnPlateau(monitor='loss', factor=0.5, patience=3, verbose=1, mode='auto', epsilon=0.0001, cooldown=0, min_lr=0))\n",
    "\t#cb.append(keras.callbacks.LearningRateScheduler(schedule))\n",
    "\tcb.append(keras.callbacks.EarlyStopping(monitor='loss', min_delta=0.00001, patience=10, verbose=1, mode='auto'))\n",
    "\tcb.append(Cust_metrics())\n",
    "\n",
    "\treturn cb\n",
    "\n",
    "\n",
    "############################### Main Program ###################################\n",
    "\n",
    "# Setting hyperparameters\n",
    "reg = 0.0\n",
    "drop = 0.0\n",
    "nlayers = 1\n",
    "nunits = 128\n",
    "\n",
    "\n",
    "print(\"----Loading Data----\")\n",
    "labels_train = np.load('../arrays/labels_075_resampled.npy')\n",
    "labels_test = np.load('../arrays/labels_025.npy')\n",
    "coord_train = np.load('../arrays/4D_075_cint_resampled_8x194m.npy')\n",
    "coord_test = np.load('../arrays/4D_025_cint_8x32m.npy')\n",
    "\n",
    "\n",
    "print(\"----Processing Data----\")\n",
    "coord_test, coord_train = normalise_coord([coord_test, coord_train])\n",
    "#labels_train, labels_test, coord_train, coord_test = subset_data(labels, coord, keep=1, train_split=0.75)\n",
    "\n",
    "\n",
    "print(\"----Setting up the model----\")\n",
    "model = build_model(coord_train.shape[1], reg, drop, nlayers, nunits, 'relu')\n",
    "\n",
    "\n",
    "print(\"----Compiling the model----\")\n",
    "compiled_mod = compile_mod(model)\n",
    "\n",
    "\n",
    "print(\"----Model training----\")\n",
    "compiled_mod.fit(coord_train, labels_train, epochs=1, batch_size=64, callbacks=set_callbacks())#,validation_split=0.25)\n",
    "\n",
    "\n",
    "pred = compiled_mod.predict(coord_test,batch_size=64, verbose=0)\n",
    "#print('\\n','Final Prediciton Score Summary (Validation Set Size:', np.abs(len(pred)),'):' , '\\n', \"MAX:\", max(pred),'\\n' , \"MIN:\", min(pred),'\\n')\n",
    "\n",
    "print(compiled_mod.get_weights())\n",
    "#pickle.dump(weights,open( \"weights.p\", \"wb\"))\n",
    "# Evaluate model with test data\n",
    "#score = model.evaluate(coord_test, coord_test, batch_size=128)\n",
    "#print(score)\n"
   ]
  },
  {
   "cell_type": "code",
   "execution_count": 37,
   "metadata": {},
   "outputs": [
    {
     "name": "stdout",
     "output_type": "stream",
     "text": [
      "Fraction of positive predictions: 0.0597810631521\n"
     ]
    }
   ],
   "source": [
    "bin_pred = np.array(pred > 0.8).astype(int)\n",
    "print(\"Fraction of positive predictions:\", np.sum(bin_pred)/len(bin_pred))"
   ]
  },
  {
   "cell_type": "code",
   "execution_count": 38,
   "metadata": {},
   "outputs": [
    {
     "data": {
      "text/plain": [
       "0.049717641315649735"
      ]
     },
     "execution_count": 38,
     "metadata": {},
     "output_type": "execute_result"
    }
   ],
   "source": [
    "met.matthews_corrcoef(labels_test,bin_pred)"
   ]
  },
  {
   "cell_type": "code",
   "execution_count": null,
   "metadata": {
    "collapsed": true
   },
   "outputs": [],
   "source": []
  }
 ],
 "metadata": {
  "kernelspec": {
   "display_name": "Python 3",
   "language": "python",
   "name": "python3"
  },
  "language_info": {
   "codemirror_mode": {
    "name": "ipython",
    "version": 3
   },
   "file_extension": ".py",
   "mimetype": "text/x-python",
   "name": "python",
   "nbconvert_exporter": "python",
   "pygments_lexer": "ipython3",
   "version": "3.6.1"
  }
 },
 "nbformat": 4,
 "nbformat_minor": 2
}
