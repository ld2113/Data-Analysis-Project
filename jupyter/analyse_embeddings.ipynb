{
 "cells": [
  {
   "cell_type": "code",
   "execution_count": 1,
   "metadata": {
    "collapsed": true
   },
   "outputs": [],
   "source": [
    "from __future__ import print_function\n",
    "from __future__ import absolute_import\n",
    "from __future__ import division\n",
    "\n",
    "import scipy.spatial\n",
    "import numpy as np\n",
    "\n",
    "import pandas as pd\n",
    "import networkx as nx\n",
    "\n",
    "import matplotlib.pyplot as plt\n",
    "\n",
    "import sklearn\n",
    "from sklearn import metrics\n",
    "\n",
    "from time import time\n",
    "import sys\n",
    "\n",
    "import copy"
   ]
  },
  {
   "cell_type": "code",
   "execution_count": 2,
   "metadata": {
    "collapsed": true
   },
   "outputs": [],
   "source": [
    "# Import Data\n",
    "xvals = np.load('../arrays/full_embed/4D_coord_4x16k.npy')\n",
    "#one_d = np.load('../arrays/full_embed/network/labels_100.npy')"
   ]
  },
  {
   "cell_type": "code",
   "execution_count": 3,
   "metadata": {},
   "outputs": [
    {
     "data": {
      "image/png": "[encoded data removed]",
      "text/plain": [
       "<matplotlib.figure.Figure at 0x7ff9243980f0>"
      ]
     },
     "metadata": {},
     "output_type": "display_data"
    }
   ],
   "source": [
    "# Plot 2D embedding\n",
    "plt.scatter(xvals[:,0],xvals[:,1])\n",
    "plt.show()"
   ]
  },
  {
   "cell_type": "code",
   "execution_count": 4,
   "metadata": {},
   "outputs": [
    {
     "name": "stdout",
     "output_type": "stream",
     "text": [
      "Number of zero distances:  19906\n"
     ]
    },
    {
     "name": "stderr",
     "output_type": "stream",
     "text": [
      "/home/ld2113/anaconda2/envs/python3/lib/python3.6/site-packages/ipykernel_launcher.py:9: RuntimeWarning: divide by zero encountered in true_divide\n",
      "  if __name__ == '__main__':\n"
     ]
    },
    {
     "name": "stdout",
     "output_type": "stream",
     "text": [
      "ROC AUC:  0.615945798435\n",
      "PRC AUC:  0.00420201436007\n"
     ]
    }
   ],
   "source": [
    "# Calculate distances between all points\n",
    "distances = scipy.spatial.distance.cdist(xvals,xvals)\n",
    "one_d_dist = distances[np.triu_indices_from(distances,k=1)]\n",
    "\n",
    "# Number of zero distances\n",
    "print(\"Number of zero distances: \",len(one_d[np.nonzero(one_d_dist==0)]))\n",
    "\n",
    "# Calculate metrics (threshold independent)\n",
    "inv_one_d_dist = 1/one_d_dist\n",
    "inv_one_d_dist[inv_one_d_dist == np.inf] = 0\n",
    "print(\"ROC AUC: \",sklearn.metrics.roc_auc_score(one_d,inv_one_d_dist))\n",
    "print(\"PRC AUC: \",sklearn.metrics.average_precision_score(one_d,inv_one_d_dist))"
   ]
  },
  {
   "cell_type": "code",
   "execution_count": 5,
   "metadata": {},
   "outputs": [
    {
     "data": {
      "image/png": "[encoded data removed]",
      "text/plain": [
       "<matplotlib.figure.Figure at 0x7ff0dda55898>"
      ]
     },
     "metadata": {},
     "output_type": "display_data"
    }
   ],
   "source": [
    "# Print ROCurve\n",
    "roc=sklearn.metrics.roc_curve(one_d,inv_one_d_dist)\n",
    "plt.plot(roc[0],roc[1])\n",
    "plt.show()"
   ]
  },
  {
   "cell_type": "code",
   "execution_count": 6,
   "metadata": {},
   "outputs": [
    {
     "data": {
      "image/png": "[encoded data removed]",
      "text/plain": [
       "<matplotlib.figure.Figure at 0x7ff12f529710>"
      ]
     },
     "metadata": {},
     "output_type": "display_data"
    }
   ],
   "source": [
    "# Print PRCurve\n",
    "prc=sklearn.metrics.precision_recall_curve(one_d,inv_one_d_dist)\n",
    "plt.plot(prc[0],prc[1])\n",
    "plt.show()"
   ]
  },
  {
   "cell_type": "code",
   "execution_count": 14,
   "metadata": {},
   "outputs": [
    {
     "name": "stdout",
     "output_type": "stream",
     "text": [
      "Number of predicted interactions at this threshold:  336552\n",
      "Matthews Corr Coeff:  0.0138996897089\n",
      "F1-Score:  0.0156036331707\n",
      "Precision:  0.0128835959971\n",
      "Recall:  0.019779578133\n",
      "Accuracy:  0.9957831968\n"
     ]
    }
   ],
   "source": [
    "# Replace distances with binary labels according to a threshold\n",
    "one_d_dist_bin = (copy.copy(one_d_dist) < 0.04).astype(int)\n",
    "\n",
    "\n",
    "# Calculate proportion of 1 in embedded labels\n",
    "print(\"Number of predicted interactions at this threshold: \", np.sum(one_d_dist_bin))\n",
    "      \n",
    "# Calculate metrics (threshold dependent)\n",
    "print(\"Matthews Corr Coeff: \",sklearn.metrics.matthews_corrcoef(one_d,one_d_dist_bin))\n",
    "print(\"F1-Score: \",sklearn.metrics.f1_score(one_d,one_d_dist_bin))\n",
    "print(\"Precision: \",sklearn.metrics.precision_score(one_d,one_d_dist_bin))\n",
    "print(\"Recall: \",sklearn.metrics.recall_score(one_d,one_d_dist_bin))\n",
    "print(\"Accuracy: \",sklearn.metrics.accuracy_score(one_d,one_d_dist_bin))"
   ]
  },
  {
   "cell_type": "code",
   "execution_count": 15,
   "metadata": {},
   "outputs": [
    {
     "name": "stdout",
     "output_type": "stream",
     "text": [
      "Number of predicted interactions at this threshold:  3750938\n",
      "Matthews Corr Coeff:  0.0111861209306\n",
      "F1-Score:  0.00822386234892\n",
      "Precision:  0.00435224469186\n",
      "Recall:  0.0744699292022\n",
      "Accuracy:  0.969651250484\n"
     ]
    }
   ],
   "source": [
    "# Replace distances with binary labels according to a threshold\n",
    "one_d_dist_bin = (copy.copy(one_d_dist) < 0.1).astype(int)\n",
    "\n",
    "\n",
    "# Calculate proportion of 1 in embedded labels\n",
    "print(\"Number of predicted interactions at this threshold: \", np.sum(one_d_dist_bin))\n",
    "      \n",
    "# Calculate metrics (threshold dependent)\n",
    "print(\"Matthews Corr Coeff: \",sklearn.metrics.matthews_corrcoef(one_d,one_d_dist_bin))\n",
    "print(\"F1-Score: \",sklearn.metrics.f1_score(one_d,one_d_dist_bin))\n",
    "print(\"Precision: \",sklearn.metrics.precision_score(one_d,one_d_dist_bin))\n",
    "print(\"Recall: \",sklearn.metrics.recall_score(one_d,one_d_dist_bin))\n",
    "print(\"Accuracy: \",sklearn.metrics.accuracy_score(one_d,one_d_dist_bin))"
   ]
  },
  {
   "cell_type": "code",
   "execution_count": 16,
   "metadata": {},
   "outputs": [
    {
     "name": "stdout",
     "output_type": "stream",
     "text": [
      "Number of predicted interactions at this threshold:  153751\n",
      "Matthews Corr Coeff:  0.0162783378506\n",
      "F1-Score:  0.0173956409012\n",
      "Precision:  0.0210990497623\n",
      "Recall:  0.0147981899131\n",
      "Accuracy:  0.997175322394\n"
     ]
    }
   ],
   "source": [
    "# Replace distances with binary labels according to a threshold\n",
    "one_d_dist_bin = (copy.copy(one_d_dist) < 0.03).astype(int)\n",
    "\n",
    "\n",
    "# Calculate proportion of 1 in embedded labels\n",
    "print(\"Number of predicted interactions at this threshold: \", np.sum(one_d_dist_bin))\n",
    "      \n",
    "# Calculate metrics (threshold dependent)\n",
    "print(\"Matthews Corr Coeff: \",sklearn.metrics.matthews_corrcoef(one_d,one_d_dist_bin))\n",
    "print(\"F1-Score: \",sklearn.metrics.f1_score(one_d,one_d_dist_bin))\n",
    "print(\"Precision: \",sklearn.metrics.precision_score(one_d,one_d_dist_bin))\n",
    "print(\"Recall: \",sklearn.metrics.recall_score(one_d,one_d_dist_bin))\n",
    "print(\"Accuracy: \",sklearn.metrics.accuracy_score(one_d,one_d_dist_bin))"
   ]
  },
  {
   "cell_type": "code",
   "execution_count": 17,
   "metadata": {},
   "outputs": [
    {
     "name": "stdout",
     "output_type": "stream",
     "text": [
      "Number of predicted interactions at this threshold:  232556\n",
      "Matthews Corr Coeff:  0.0149030591282\n",
      "F1-Score:  0.016610148482\n",
      "Precision:  0.0161337484305\n",
      "Recall:  0.0171155390118\n",
      "Accuracy:  0.996575755034\n"
     ]
    }
   ],
   "source": [
    "# Replace distances with binary labels according to a threshold\n",
    "one_d_dist_bin = (copy.copy(one_d_dist) < 0.035).astype(int)\n",
    "\n",
    "\n",
    "# Calculate proportion of 1 in embedded labels\n",
    "print(\"Number of predicted interactions at this threshold: \", np.sum(one_d_dist_bin))\n",
    "      \n",
    "# Calculate metrics (threshold dependent)\n",
    "print(\"Matthews Corr Coeff: \",sklearn.metrics.matthews_corrcoef(one_d,one_d_dist_bin))\n",
    "print(\"F1-Score: \",sklearn.metrics.f1_score(one_d,one_d_dist_bin))\n",
    "print(\"Precision: \",sklearn.metrics.precision_score(one_d,one_d_dist_bin))\n",
    "print(\"Recall: \",sklearn.metrics.recall_score(one_d,one_d_dist_bin))\n",
    "print(\"Accuracy: \",sklearn.metrics.accuracy_score(one_d,one_d_dist_bin))"
   ]
  },
  {
   "cell_type": "code",
   "execution_count": null,
   "metadata": {
    "collapsed": true
   },
   "outputs": [],
   "source": []
  }
 ],
 "metadata": {
  "kernelspec": {
   "display_name": "Python 3",
   "language": "python",
   "name": "python3"
  },
  "language_info": {
   "codemirror_mode": {
    "name": "ipython",
    "version": 3
   },
   "file_extension": ".py",
   "mimetype": "text/x-python",
   "name": "python",
   "nbconvert_exporter": "python",
   "pygments_lexer": "ipython3",
   "version": "3.6.1"
  }
 },
 "nbformat": 4,
 "nbformat_minor": 2
}
