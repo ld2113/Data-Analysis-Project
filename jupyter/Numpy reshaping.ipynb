{
 "cells": [
  {
   "cell_type": "code",
   "execution_count": 1,
   "metadata": {
    "collapsed": true
   },
   "outputs": [],
   "source": [
    "import numpy as np"
   ]
  },
  {
   "cell_type": "code",
   "execution_count": 2,
   "metadata": {
    "collapsed": true
   },
   "outputs": [],
   "source": [
    "coord = np.load('../arrays/4Dcoordinates.npy')"
   ]
  },
  {
   "cell_type": "code",
   "execution_count": 10,
   "metadata": {},
   "outputs": [
    {
     "data": {
      "text/plain": [
       "(16109, 4)"
      ]
     },
     "execution_count": 10,
     "metadata": {},
     "output_type": "execute_result"
    }
   ],
   "source": [
    "coord.shape"
   ]
  },
  {
   "cell_type": "code",
   "execution_count": 12,
   "metadata": {},
   "outputs": [],
   "source": [
    "shape = int((coord.shape[0]*coord.shape[0]-coord.shape[0])/2.0)\n",
    "inter_coord = np.zeros([shape,coord.shape[1]*2])\n",
    "count = 0\n",
    "\n",
    "for i in range(0,coord.shape[0]):\n",
    "    for j in range(0,coord.shape[0]-(1+i)):\n",
    "        inter_coord[count,0:coord.shape[1]] = coord[i]\n",
    "        count += 1"
   ]
  },
  {
   "cell_type": "code",
   "execution_count": 13,
   "metadata": {},
   "outputs": [],
   "source": [
    "count = 0\n",
    "\n",
    "for i in range(0,coord.shape[0]):\n",
    "    for j in range(0+i+1,coord.shape[0]):\n",
    "        inter_coord[count,coord.shape[1]:coord.shape[1]*2] = coord[j]\n",
    "        count += 1"
   ]
  },
  {
   "cell_type": "code",
   "execution_count": 14,
   "metadata": {},
   "outputs": [
    {
     "data": {
      "text/plain": [
       "array([[ 0.7087464 ,  0.7633493 ,  0.66270142,  0.60474653],\n",
       "       [ 0.23641667,  0.67049566,  0.5557287 ,  0.76851641],\n",
       "       [ 0.76131548,  0.83006633,  0.55171583,  0.84067548],\n",
       "       ..., \n",
       "       [ 0.83529359,  0.86476634,  0.6170648 ,  0.66866481],\n",
       "       [ 0.73303502,  0.74962077,  0.79102924,  0.80383237],\n",
       "       [ 0.3936804 ,  0.76829204,  0.42957095,  0.7802698 ]])"
      ]
     },
     "execution_count": 14,
     "metadata": {},
     "output_type": "execute_result"
    }
   ],
   "source": [
    "coord"
   ]
  },
  {
   "cell_type": "code",
   "execution_count": 15,
   "metadata": {},
   "outputs": [
    {
     "data": {
      "text/plain": [
       "array([[ 0.7087464 ,  0.7633493 ,  0.66270142, ...,  0.67049566,\n",
       "         0.5557287 ,  0.76851641],\n",
       "       [ 0.7087464 ,  0.7633493 ,  0.66270142, ...,  0.83006633,\n",
       "         0.55171583,  0.84067548],\n",
       "       [ 0.7087464 ,  0.7633493 ,  0.66270142, ...,  0.93574961,\n",
       "         0.23792443,  0.79882085],\n",
       "       ..., \n",
       "       [ 0.83529359,  0.86476634,  0.6170648 , ...,  0.74962077,\n",
       "         0.79102924,  0.80383237],\n",
       "       [ 0.83529359,  0.86476634,  0.6170648 , ...,  0.76829204,\n",
       "         0.42957095,  0.7802698 ],\n",
       "       [ 0.73303502,  0.74962077,  0.79102924, ...,  0.76829204,\n",
       "         0.42957095,  0.7802698 ]])"
      ]
     },
     "execution_count": 15,
     "metadata": {},
     "output_type": "execute_result"
    }
   ],
   "source": [
    "inter_coord"
   ]
  },
  {
   "cell_type": "code",
   "execution_count": 16,
   "metadata": {},
   "outputs": [
    {
     "data": {
      "text/plain": [
       "(129741886, 8)"
      ]
     },
     "execution_count": 16,
     "metadata": {},
     "output_type": "execute_result"
    }
   ],
   "source": [
    "inter_coord.shape"
   ]
  },
  {
   "cell_type": "code",
   "execution_count": 9,
   "metadata": {
    "collapsed": true
   },
   "outputs": [],
   "source": [
    "np.save('../arrays/coord_all_interactions.npy', inter_coord)"
   ]
  }
 ],
 "metadata": {
  "kernelspec": {
   "display_name": "Python 3",
   "language": "python",
   "name": "python3"
  },
  "language_info": {
   "codemirror_mode": {
    "name": "ipython",
    "version": 3
   },
   "file_extension": ".py",
   "mimetype": "text/x-python",
   "name": "python",
   "nbconvert_exporter": "python",
   "pygments_lexer": "ipython3",
   "version": "3.6.1"
  }
 },
 "nbformat": 4,
 "nbformat_minor": 2
}
